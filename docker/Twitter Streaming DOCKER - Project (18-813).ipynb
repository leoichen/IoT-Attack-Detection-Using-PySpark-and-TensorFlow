{
 "cells": [
  {
   "cell_type": "code",
   "execution_count": 1,
   "id": "67fa5021-0309-49cc-bab6-449061f61444",
   "metadata": {},
   "outputs": [
    {
     "name": "stdout",
     "output_type": "stream",
     "text": [
      "Collecting tweepy\n",
      "  Downloading tweepy-4.12.1-py3-none-any.whl (101 kB)\n",
      "\u001b[2K     \u001b[90m━━━━━━━━━━━━━━━━━━━━━━━━━━━━━━━━━━━━━━━\u001b[0m \u001b[32m101.6/101.6 kB\u001b[0m \u001b[31m2.3 MB/s\u001b[0m eta \u001b[36m0:00:00\u001b[0ma \u001b[36m0:00:01\u001b[0m\n",
      "\u001b[?25hRequirement already satisfied: requests<3,>=2.27.0 in /opt/conda/lib/python3.10/site-packages (from tweepy) (2.28.1)\n",
      "Requirement already satisfied: oauthlib<4,>=3.2.0 in /opt/conda/lib/python3.10/site-packages (from tweepy) (3.2.2)\n",
      "Requirement already satisfied: requests-oauthlib<2,>=1.2.0 in /opt/conda/lib/python3.10/site-packages (from tweepy) (1.3.1)\n",
      "Requirement already satisfied: certifi>=2017.4.17 in /opt/conda/lib/python3.10/site-packages (from requests<3,>=2.27.0->tweepy) (2022.9.24)\n",
      "Requirement already satisfied: urllib3<1.27,>=1.21.1 in /opt/conda/lib/python3.10/site-packages (from requests<3,>=2.27.0->tweepy) (1.26.11)\n",
      "Requirement already satisfied: charset-normalizer<3,>=2 in /opt/conda/lib/python3.10/site-packages (from requests<3,>=2.27.0->tweepy) (2.1.1)\n",
      "Requirement already satisfied: idna<4,>=2.5 in /opt/conda/lib/python3.10/site-packages (from requests<3,>=2.27.0->tweepy) (3.4)\n",
      "Installing collected packages: tweepy\n",
      "Successfully installed tweepy-4.12.1\n",
      "Requirement already satisfied: kafka-python in /opt/conda/lib/python3.10/site-packages (2.0.2)\n"
     ]
    }
   ],
   "source": [
    "!pip3 install tweepy\n",
    "!pip install kafka-python"
   ]
  },
  {
   "cell_type": "code",
   "execution_count": 9,
   "id": "0b2ea557",
   "metadata": {},
   "outputs": [
    {
     "name": "stdout",
     "output_type": "stream",
     "text": [
      "1669689453.853268\n",
      "slowite\n",
      "bruteforce\n",
      "flood\n",
      "malformed\n",
      "dos\n",
      "legitimate\n",
      "connected\n",
      "Van dos cuentas que pierdo🤦🏽‍♀️\n"
     ]
    },
    {
     "name": "stderr",
     "output_type": "stream",
     "text": [
      "Stream encountered an exception\n",
      "Traceback (most recent call last):\n",
      "  File \"/opt/conda/lib/python3.10/site-packages/tweepy/streaming.py\", line 94, in _connect\n",
      "    self.on_data(line)\n",
      "  File \"/opt/conda/lib/python3.10/site-packages/tweepy/streaming.py\", line 936, in on_data\n",
      "    self.on_tweet(tweet)\n",
      "  File \"/tmp/ipykernel_1632/3081443496.py\", line 36, in on_tweet\n",
      "    producer.send(topic_name,tweet.text.encode('utf-8'))\n",
      "  File \"/opt/conda/lib/python3.10/site-packages/kafka/producer/kafka.py\", line 576, in send\n",
      "    self._wait_on_metadata(topic, self.config['max_block_ms'] / 1000.0)\n",
      "  File \"/opt/conda/lib/python3.10/site-packages/kafka/producer/kafka.py\", line 702, in _wait_on_metadata\n",
      "    raise Errors.KafkaTimeoutError(\n",
      "kafka.errors.KafkaTimeoutError: KafkaTimeoutError: Failed to update metadata after 60.0 secs.\n"
     ]
    }
   ],
   "source": [
    "import tweepy\n",
    "import time\n",
    "from kafka import KafkaProducer\n",
    "\n",
    "# Update the keys with correct values\n",
    "bearer_token= r\"AAAAAAAAAAAAAAAAAAAAAKgwhQEAAAAARkzo4dqWxtEWPzz9rPvTrjoNXpE%3DdaTgGJdbavPOvjOophZ6F7Q2bz0SA4UUxzs3LwWdXxdLX68AHz\"\n",
    "api_key = \"xY9EdDNhhiUxRcYR2VkoDYy3z\"\n",
    "api_secret = \"cvLBHSMalhaO0NirqPzvvR2IupHBkA4XHSTqeB8QF22PW9wL6g\"\n",
    "access_token = '1572264324764147720-Jjz7IanGYwU39CJFItgXQUVIjzMFCp'\n",
    "access_token_secret = '2sZVcrkz1Hvtw9HDxlyd4SML1Pwy3S5oFqzSj37kgTKJl'\n",
    "\n",
    "# from \"targets\" var in \"Project Checkpoint 1\" notebook\n",
    "search_terms = ['slowite', 'bruteforce', 'flood', 'malformed', 'dos', 'legitimate']\n",
    "\n",
    "producer = KafkaProducer(bootstrap_servers='127.0.0.1:9092',api_version=(0, 10, 1))\n",
    "\n",
    "topic_name = \"project-twitter-streaming\"\n",
    "\n",
    "# set timer for 5 mins from now\n",
    "five_min_from_now = time.time() + 300\n",
    "\n",
    "print(five_min_from_now)\n",
    "\n",
    "class MyStream(tweepy.StreamingClient):\n",
    "    def on_connect(self):\n",
    "        print(\"connected\")\n",
    "    \n",
    "    def on_tweet(self,tweet):\n",
    "        # disconnect stream after 5 mins\n",
    "        if time.time() > five_min_from_now:\n",
    "            print('disconnecting')\n",
    "            self.disconnect()\n",
    "            \n",
    "        if tweet.referenced_tweets == None:\n",
    "            print(tweet.text)\n",
    "            producer.send(topic_name,tweet.text.encode('utf-8'))\n",
    "            time.sleep(0.1)\n",
    "            \n",
    "            \n",
    "stream = MyStream(bearer_token=bearer_token)\n",
    "\n",
    "\n",
    "# first delete all existing Tweepy streaming rules if rules exist\n",
    "ids = []\n",
    "rules = list(stream.get_rules())[0]\n",
    "\n",
    "if rules != None:\n",
    "    for rule in list(stream.get_rules())[0]:\n",
    "        ids.append(rule[2])\n",
    "\n",
    "    stream.delete_rules(ids)\n",
    "\n",
    "# add rules\n",
    "for term in search_terms:\n",
    "    print(term)\n",
    "    stream.add_rules(tweepy.StreamRule(term))\n",
    "    \n",
    "stream.filter(tweet_fields=[\"referenced_tweets\"])"
   ]
  },
  {
   "cell_type": "code",
   "execution_count": null,
   "id": "22a94b4e",
   "metadata": {},
   "outputs": [],
   "source": []
  }
 ],
 "metadata": {
  "kernelspec": {
   "display_name": "Python 3 (ipykernel)",
   "language": "python",
   "name": "python3"
  },
  "language_info": {
   "codemirror_mode": {
    "name": "ipython",
    "version": 3
   },
   "file_extension": ".py",
   "mimetype": "text/x-python",
   "name": "python",
   "nbconvert_exporter": "python",
   "pygments_lexer": "ipython3",
   "version": "3.10.6"
  }
 },
 "nbformat": 4,
 "nbformat_minor": 5
}
